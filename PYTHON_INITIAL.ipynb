{
 "cells": [
  {
   "cell_type": "code",
   "execution_count": 17,
   "id": "9385fb46-f37e-48d0-95fa-3dd465a44752",
   "metadata": {},
   "outputs": [],
   "source": [
    "import mysql.connector as sql\n",
    "from mysql.connector import Error"
   ]
  },
  {
   "cell_type": "code",
   "execution_count": 39,
   "id": "cbda834c-732f-4b99-a02e-ece6f668cec8",
   "metadata": {},
   "outputs": [
    {
     "name": "stdout",
     "output_type": "stream",
     "text": [
      "<mysql.connector.connection.MySQLConnection object at 0x00000205CEC6E090>\n"
     ]
    }
   ],
   "source": [
    "mydb = sql.connect(\n",
    "    host=\"localhost\",\n",
    "    user=\"root\",\n",
    "    passwd=\"rafid12002057\",\n",
    "    use_pure=True,   \n",
    ")\n",
    "print(mydb)"
   ]
  },
  {
   "cell_type": "code",
   "execution_count": 4,
   "id": "6f1a7e7f-552c-450b-9567-b3f38012cf77",
   "metadata": {},
   "outputs": [],
   "source": [
    "mycursor=mydb.cursor()"
   ]
  },
  {
   "cell_type": "code",
   "execution_count": 8,
   "id": "7c24b45e-9845-4dc4-8c92-d9e61564ceef",
   "metadata": {},
   "outputs": [],
   "source": [
    "mycursor.execute(\"show databases\")"
   ]
  },
  {
   "cell_type": "code",
   "execution_count": 10,
   "id": "b3303048-7d2c-4ff3-9e01-c1d1fc878504",
   "metadata": {},
   "outputs": [
    {
     "name": "stdout",
     "output_type": "stream",
     "text": [
      "('information_schema',)\n",
      "('mysql',)\n",
      "('mysql_joins',)\n",
      "('performance_schema',)\n",
      "('rafid_sexy',)\n",
      "('sql_joins',)\n",
      "('store_proc',)\n",
      "('subqueries',)\n",
      "('sys',)\n",
      "('triggers',)\n",
      "('views',)\n",
      "('viewss',)\n"
     ]
    }
   ],
   "source": [
    "for i in mycursor:\n",
    "    print(i)"
   ]
  },
  {
   "cell_type": "code",
   "execution_count": null,
   "id": "86fc12d6-d78b-4858-bce3-f6fe86bc84aa",
   "metadata": {},
   "outputs": [],
   "source": []
  },
  {
   "cell_type": "code",
   "execution_count": 63,
   "id": "1449eb34-708a-4563-a6d0-be71719a813d",
   "metadata": {},
   "outputs": [],
   "source": [
    "# Execute SQL queries:\n",
    "\n",
    "def execute_query(connection,query):\n",
    "    cursor=connection.cursor()\n",
    "    try:\n",
    "        connection.execute(query)\n",
    "        connectio.commit()\n",
    "        print(\"Query was successful\")\n",
    "    except Error as err:\n",
    "        print(f\"Error: '{err}'\")      \n",
    "    \n"
   ]
  },
  {
   "cell_type": "code",
   "execution_count": 53,
   "id": "c16e8b29-2337-4b4b-a85f-6075a4f93860",
   "metadata": {},
   "outputs": [],
   "source": [
    "#Create Mysql Python\n",
    "\n",
    "def create_database(connection,query):\n",
    "    cursor=connection.cursor()\n",
    "    try:\n",
    "        cursor.execute(query)\n",
    "        print(\"Database created successfully\")\n",
    "    except Error as err:\n",
    "        print(f\"Error: '{err}'\")   \n",
    "    create_database_query=\"Create database mysql_python\"\n",
    "    create_database(connection,create_database_query)\n",
    "        "
   ]
  },
  {
   "cell_type": "code",
   "execution_count": 61,
   "id": "15895041-47a3-434e-9f2b-5eebc5fb2c9a",
   "metadata": {},
   "outputs": [],
   "source": [
    "# Set database connection\n",
    "def create_db_connection(host_name, user_name, user_password, db_name):\n",
    "    connection = None\n",
    "    try:\n",
    "        connection = mysql.connector.connect(\n",
    "            host=host_name,\n",
    "            user=user_name,\n",
    "            passwd=user_password,\n",
    "            database=db_name\n",
    "        )\n",
    "        print(\"MySQL Database connection is successful\")\n",
    "    except Error as err:\n",
    "        print(f\"Error: '{err}'\")  \n",
    "    return connection\n"
   ]
  },
  {
   "cell_type": "code",
   "execution_count": null,
   "id": "99b4ad79-7a9b-4ef4-ba85-f27addb93e65",
   "metadata": {},
   "outputs": [],
   "source": []
  }
 ],
 "metadata": {
  "kernelspec": {
   "display_name": "Python 3 (ipykernel)",
   "language": "python",
   "name": "python3"
  },
  "language_info": {
   "codemirror_mode": {
    "name": "ipython",
    "version": 3
   },
   "file_extension": ".py",
   "mimetype": "text/x-python",
   "name": "python",
   "nbconvert_exporter": "python",
   "pygments_lexer": "ipython3",
   "version": "3.12.4"
  }
 },
 "nbformat": 4,
 "nbformat_minor": 5
}
